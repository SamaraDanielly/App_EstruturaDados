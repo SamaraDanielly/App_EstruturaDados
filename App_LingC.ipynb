{
  "nbformat": 4,
  "nbformat_minor": 0,
  "metadata": {
    "colab": {
      "name": "App_LingC",
      "provenance": [],
      "collapsed_sections": [
        "-9WRMdoxkSQ9"
      ],
      "include_colab_link": true
    },
    "kernelspec": {
      "name": "python3",
      "display_name": "Python 3"
    },
    "language_info": {
      "name": "python"
    }
  },
  "cells": [
    {
      "cell_type": "markdown",
      "metadata": {
        "id": "view-in-github",
        "colab_type": "text"
      },
      "source": [
        "<a href=\"https://colab.research.google.com/github/SamaraDanielly/App_EstruturaDados/blob/main/App_LingC.ipynb\" target=\"_parent\"><img src=\"https://colab.research.google.com/assets/colab-badge.svg\" alt=\"Open In Colab\"/></a>"
      ]
    },
    {
      "cell_type": "markdown",
      "metadata": {
        "id": "-9WRMdoxkSQ9"
      },
      "source": [
        "#Descrição:\n",
        "- O Aplicativo foi feito em Liguagem C que manipule uma estrutra de dados, utilizando Fila como apoio para acessar os dados. \n",
        "\n",
        "- O objetivo é que ele tenha com:\n",
        "\n",
        "1 - Iniciar/Reiniciar<br>\n",
        "2 - Inserir<br>\n",
        "3 - Excluir<br>\n",
        "4 - Imprimir<br>\n",
        "5 - Buscar<br>\n",
        "6 - Nr. de Elementos<br>\n",
        "7 - Fim<br>\n",
        "\n",
        "\n",
        "\n",
        "\n"
      ]
    },
    {
      "cell_type": "markdown",
      "metadata": {
        "id": "s3hYM8aNNoGh"
      },
      "source": [
        "Inserir o Código Abaixo:"
      ]
    },
    {
      "cell_type": "code",
      "metadata": {
        "id": "ax2i1lFxlqLI",
        "colab": {
          "base_uri": "https://localhost:8080/"
        },
        "outputId": "74f26699-14cc-48d2-c2b5-058766fdc34b"
      },
      "source": [
        "%%writefile EstruturaDados.c\n",
        "\n",
        "#include <stdio.h>\n",
        "#include <stdlib.h>\n",
        "\n",
        "typedef struct no{\n",
        "    int numero;\n",
        "    struct no *prox;\n",
        "}No;\n",
        "\n",
        "typedef struct{\n",
        "    No *prim;\n",
        "    No *sair;\n",
        "    int tam;\n",
        "}Fila;\n",
        "\n",
        "void criar_fila(Fila *fila){\n",
        "    fila->prim = NULL;\n",
        "    fila->sair = NULL;\n",
        "    fila->tam = 0;\n",
        "}\n",
        "\n",
        "void inserir_na_fila(Fila *fila, int num){\n",
        "    No *aux, *novo = malloc(sizeof(No));\n",
        "    if(novo){\n",
        "        novo->numero = num;\n",
        "        novo->prox = NULL;\n",
        "        if(fila->prim == NULL){\n",
        "            fila->prim = novo;\n",
        "            fila->sair = novo;\n",
        "        }\n",
        "        else{\n",
        "            fila->sair->prox = novo;\n",
        "            fila->sair = novo;\n",
        "        }\n",
        "        fila->tam++;\n",
        "    }\n",
        "    else\n",
        "        printf(\"\\nErro.\\n\");\n",
        "}\n",
        "\n",
        "No* remover_da_fila(Fila *fila){\n",
        "    No *remover = NULL;\n",
        "\n",
        "    if(fila->prim){\n",
        "        remover = fila->prim;\n",
        "        fila->prim = remover->prox;\n",
        "        fila->tam--;\n",
        "    }\n",
        "    else\n",
        "        printf(\"\\tFila vazia\\n\");\n",
        "    return remover;\n",
        "}\n",
        "\n",
        "void imprimir(Fila *fila){\n",
        "    No *aux = fila->prim;\n",
        "    printf(\"============== FILA ====================\\n\");\n",
        "    while(aux){\n",
        "        printf(\"%d \", aux->numero);\n",
        "        aux = aux->prox;\n",
        "    }\n",
        "    printf(\"\\n=========== FIM da FILA ===============\\n\");\n",
        "}\n",
        "\n",
        "int main(){\n",
        "    No *r;\n",
        "    Fila fila;\n",
        "    int opcao, numero;\n",
        "\n",
        "    criar_fila(&fila);\n",
        "\n",
        "    do{\n",
        "             printf(\"=======================================\\n\");\n",
        "             printf(\"                  MENU\\n\");\n",
        "             printf(\"=======================================\\n\");\n",
        "             printf(\"0. Sair\\n\");\n",
        "             printf(\"1. Inserir elemento na fila\\n\");\n",
        "             printf(\"2. Remover elemento na fila\\n\");\n",
        "             printf(\"3. Imprimir elemento na fila\\n\");\n",
        "             printf(\"\\n\");\n",
        "             printf(\"Escolha uma opção:\"); scanf(\"%d\", &opcao);\n",
        "\n",
        "        switch(opcao){\n",
        "        case 1:\n",
        "            printf(\"Digite um número: \");\n",
        "            scanf(\"%d\", &numero);\n",
        "            inserir_na_fila(&fila, numero);\n",
        "            break;\n",
        "        case 2:\n",
        "            r = remover_da_fila(&fila);\n",
        "            if(r){\n",
        "                printf(\"Removido: %d\\n\", r->numero);\n",
        "                free(r);\n",
        "            }\n",
        "            break;\n",
        "        case 3:\n",
        "            imprimir(&fila);\n",
        "            break;\n",
        "        default:\n",
        "            if(opcao != 0)\n",
        "                printf(\"\\nOpcão invalida!\\n\");\n",
        "        }\n",
        "\n",
        "    }while(opcao != 0);\n",
        "\n",
        "    return 0;\n",
        "}\n",
        "\n"
      ],
      "execution_count": 5,
      "outputs": [
        {
          "output_type": "stream",
          "name": "stdout",
          "text": [
            "Overwriting EstruturaDados.c\n"
          ]
        }
      ]
    },
    {
      "cell_type": "code",
      "metadata": {
        "id": "RnTkw-eEA6ob",
        "colab": {
          "base_uri": "https://localhost:8080/"
        },
        "outputId": "7fde01c4-623d-4b49-c49f-3a17af07a28b"
      },
      "source": [
        "%%shell\n",
        "\n",
        "gcc EstruturaDados.c -o programa\n",
        "\n",
        "./programa"
      ],
      "execution_count": 6,
      "outputs": [
        {
          "output_type": "stream",
          "name": "stdout",
          "text": [
            "=======================================\n",
            "                  MENU\n",
            "=======================================\n",
            "0. Sair\n",
            "1. Inserir elemento na fila\n",
            "2. Remover elemento na fila\n",
            "3. Imprimir elemento na fila\n",
            "\n",
            "Escolha uma opção:1\n",
            "Digite um número: 34\n",
            "=======================================\n",
            "                  MENU\n",
            "=======================================\n",
            "0. Sair\n",
            "1. Inserir elemento na fila\n",
            "2. Remover elemento na fila\n",
            "3. Imprimir elemento na fila\n",
            "\n",
            "Escolha uma opção:3\n",
            "============== FILA ====================\n",
            "34 \n",
            "=========== FIM da FILA ===============\n",
            "=======================================\n",
            "                  MENU\n",
            "=======================================\n",
            "0. Sair\n",
            "1. Inserir elemento na fila\n",
            "2. Remover elemento na fila\n",
            "3. Imprimir elemento na fila\n",
            "\n",
            "Escolha uma opção:2\n",
            "Removido: 34\n",
            "=======================================\n",
            "                  MENU\n",
            "=======================================\n",
            "0. Sair\n",
            "1. Inserir elemento na fila\n",
            "2. Remover elemento na fila\n",
            "3. Imprimir elemento na fila\n",
            "\n",
            "Escolha uma opção:0\n"
          ]
        },
        {
          "output_type": "execute_result",
          "data": {
            "text/plain": [
              ""
            ]
          },
          "metadata": {},
          "execution_count": 6
        }
      ]
    }
  ]
}